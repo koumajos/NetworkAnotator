{
 "cells": [
  {
   "cell_type": "markdown",
   "metadata": {},
   "source": [
    "# Firefox log miner"
   ]
  },
  {
   "cell_type": "code",
   "execution_count": null,
   "metadata": {},
   "outputs": [],
   "source": [
    "import subprocess\n",
    "import csv\n",
    "import os\n",
    "import glob\n",
    "\n",
    "import re"
   ]
  },
  {
   "cell_type": "code",
   "execution_count": null,
   "metadata": {},
   "outputs": [],
   "source": [
    "basePath = r\"../../Data/\"\n",
    "filePaths = glob.glob(os.path.join(basePath,'log.txt*'.format(\"identifier\")))\n",
    "filePaths"
   ]
  },
  {
   "cell_type": "code",
   "execution_count": null,
   "metadata": {},
   "outputs": [],
   "source": [
    "with open(filePaths[0], \"r\") as f:\n",
    "    text = f.read()"
   ]
  },
  {
   "cell_type": "code",
   "execution_count": null,
   "metadata": {},
   "outputs": [],
   "source": [
    "text = text.split(\"\\n\")"
   ]
  },
  {
   "cell_type": "markdown",
   "metadata": {},
   "source": [
    "One record with IP address in looks like:\n",
    "\n",
    "        [Parent 7023: DNS Resolver #39]: D/nsHostResolver CompleteLookup: play.google.com has 142.251.36.78\n"
   ]
  },
  {
   "cell_type": "code",
   "execution_count": null,
   "metadata": {},
   "outputs": [],
   "source": [
    "results = []\n",
    "ips = set()\n",
    "domains = set()\n",
    "for i in range(len(text)):\n",
    "    if re.search(\"\\d+\\.\\d+\\.\\d+\\.\\d+\", text[i]):\n",
    "        # print(text[i])\n",
    "        # print(\"\")\n",
    "        s = text[i].split(\" has \")\n",
    "        ip = s[-1]\n",
    "        domain = s[-2].split(\": \")[-1]\n",
    "        if ip in ips and domain in domains: \n",
    "            continue\n",
    "        ips.add(ip)\n",
    "        domains.add(domain)\n",
    "        \n",
    "        results.append([domain, ip])"
   ]
  },
  {
   "cell_type": "code",
   "execution_count": null,
   "metadata": {},
   "outputs": [],
   "source": [
    "results"
   ]
  },
  {
   "cell_type": "code",
   "execution_count": null,
   "metadata": {},
   "outputs": [],
   "source": []
  }
 ],
 "metadata": {
  "interpreter": {
   "hash": "916dbcbb3f70747c44a77c7bcd40155683ae19c65e1c03b4aa3499c5328201f1"
  },
  "kernelspec": {
   "display_name": "Python 3.9.7 64-bit",
   "name": "python3"
  },
  "language_info": {
   "codemirror_mode": {
    "name": "ipython",
    "version": 3
   },
   "file_extension": ".py",
   "mimetype": "text/x-python",
   "name": "python",
   "nbconvert_exporter": "python",
   "pygments_lexer": "ipython3",
   "version": "3.9.7"
  },
  "orig_nbformat": 4
 },
 "nbformat": 4,
 "nbformat_minor": 2
}
