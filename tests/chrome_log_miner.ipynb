{
 "cells": [
  {
   "cell_type": "markdown",
   "metadata": {},
   "source": [
    "# Chrome log miner\n",
    "\n",
    "Start logging in chrome:\n",
    "\n",
    "        chrome://net-export/\n",
    "log file can be viewed by:\n",
    "\n",
    "        https://netlog-viewer.appspot.com/\n",
    "\n"
   ]
  },
  {
   "cell_type": "code",
   "execution_count": 1,
   "metadata": {},
   "outputs": [],
   "source": [
    "import subprocess\n",
    "import csv\n",
    "import os\n",
    "import glob\n",
    "\n",
    "import re\n",
    "import json"
   ]
  },
  {
   "cell_type": "code",
   "execution_count": 2,
   "metadata": {},
   "outputs": [],
   "source": [
    "f = open(\"../../Data/chrome_log.json\")\n",
    "data = json.load(f)"
   ]
  },
  {
   "cell_type": "code",
   "execution_count": 3,
   "metadata": {},
   "outputs": [
    {
     "data": {
      "text/plain": [
       "dict_keys(['constants', 'events', 'polledData'])"
      ]
     },
     "execution_count": 3,
     "metadata": {},
     "output_type": "execute_result"
    }
   ],
   "source": [
    "data.keys()"
   ]
  },
  {
   "cell_type": "code",
   "execution_count": 14,
   "metadata": {},
   "outputs": [],
   "source": [
    "DNS = ['dns_query_type', 'host', 'network_isolation_key', 'secure_dns_mode', 'source_dependency']\n",
    "SOURCE = ['source_dependency']\n",
    "IP = ['local_address', 'remote_address']\n",
    "\n",
    "domains = {}\n",
    "for event in data['events']:\n",
    "    if 'params' in event:\n",
    "        tmp = event['params'].keys()\n",
    "        if list(tmp) == DNS:\n",
    "            if event['params']['host'] not in domains:\n",
    "                domains[event['params']['host']] = {\n",
    "                    \"id\": event['params']['source_dependency']['id'],\n",
    "                }\n",
    "        if list(tmp) == SOURCE:\n",
    "            for domain in domains:\n",
    "                if domains[domain]['id'] == event['params']['source_dependency']['id']:\n",
    "                    domains[domain]['id_ip'] = event['source']['id']\n",
    "        if list(tmp) == IP:\n",
    "            for domain in domains:\n",
    "                if \"id_ip\" in domains[domain] and domains[domain]['id_ip'] == event['source']['id']:\n",
    "                    domains[domain]['local_address'] = event['params']['local_address']\n",
    "                    domains[domain]['remote_address'] = event['params']['remote_address']"
   ]
  },
  {
   "cell_type": "code",
   "execution_count": 19,
   "metadata": {},
   "outputs": [
    {
     "data": {
      "text/plain": [
       "{'id': 178,\n",
       " 'id_ip': 177,\n",
       " 'local_address': '192.168.1.109:39704',\n",
       " 'remote_address': '157.240.30.18:443'}"
      ]
     },
     "execution_count": 19,
     "metadata": {},
     "output_type": "execute_result"
    }
   ],
   "source": [
    "domains['cs-cz.facebook.com']"
   ]
  },
  {
   "cell_type": "code",
   "execution_count": null,
   "metadata": {},
   "outputs": [],
   "source": []
  }
 ],
 "metadata": {
  "interpreter": {
   "hash": "916dbcbb3f70747c44a77c7bcd40155683ae19c65e1c03b4aa3499c5328201f1"
  },
  "kernelspec": {
   "display_name": "Python 3.9.7 64-bit",
   "name": "python3"
  },
  "language_info": {
   "codemirror_mode": {
    "name": "ipython",
    "version": 3
   },
   "file_extension": ".py",
   "mimetype": "text/x-python",
   "name": "python",
   "nbconvert_exporter": "python",
   "pygments_lexer": "ipython3",
   "version": "3.9.7"
  },
  "orig_nbformat": 4
 },
 "nbformat": 4,
 "nbformat_minor": 2
}
