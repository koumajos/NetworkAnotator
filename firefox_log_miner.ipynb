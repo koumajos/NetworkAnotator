{
 "cells": [
  {
   "cell_type": "markdown",
   "metadata": {},
   "source": [
    "# Firefox log miner"
   ]
  },
  {
   "cell_type": "code",
   "execution_count": 28,
   "metadata": {},
   "outputs": [],
   "source": [
    "import subprocess\n",
    "import csv\n",
    "import os\n",
    "import glob\n",
    "\n",
    "import re"
   ]
  },
  {
   "cell_type": "code",
   "execution_count": 29,
   "metadata": {},
   "outputs": [
    {
     "data": {
      "text/plain": [
       "['../Data/log.txt-main.7023.moz_log']"
      ]
     },
     "execution_count": 29,
     "metadata": {},
     "output_type": "execute_result"
    }
   ],
   "source": [
    "basePath = r\"../Data/\"\n",
    "filePaths = glob.glob(os.path.join(basePath,'log.txt*'.format(\"identifier\")))\n",
    "filePaths"
   ]
  },
  {
   "cell_type": "code",
   "execution_count": 30,
   "metadata": {},
   "outputs": [],
   "source": [
    "with open(filePaths[0], \"r\") as f:\n",
    "    text = f.read()"
   ]
  },
  {
   "cell_type": "code",
   "execution_count": 31,
   "metadata": {},
   "outputs": [],
   "source": [
    "text = text.split(\"\\n\")"
   ]
  },
  {
   "cell_type": "code",
   "execution_count": 32,
   "metadata": {},
   "outputs": [
    {
     "name": "stdout",
     "output_type": "stream",
     "text": [
      "jea\n"
     ]
    }
   ],
   "source": [
    "s = \"asfda sf assd f 192.168.1.1 adf ad24 a2sd1f 15sd 15s1dv5 s221v as\"\n",
    "t = \"asdfasdf asdf 223154 s1sfd51sds151 5 5.15 15 451.51 84  15sdf sdf 15.5 5s d5\"\n",
    "if re.search(\"\\d+\\.\\d+\\.\\d+\\.\\d+\", s):\n",
    "    print(\"jea\")"
   ]
  },
  {
   "cell_type": "code",
   "execution_count": 33,
   "metadata": {},
   "outputs": [],
   "source": [
    "results = []\n",
    "ips = set()\n",
    "domains = set()\n",
    "for i in range(len(text)):\n",
    "    if re.search(\"\\d+\\.\\d+\\.\\d+\\.\\d+\", text[i]):\n",
    "        s = text[i].split(\" has \")\n",
    "        ip = s[-1]\n",
    "        domain = s[-2].split(\": \")[-1]\n",
    "        if ip in ips and domain in domains: \n",
    "            continue\n",
    "        ips.add(ip)\n",
    "        domains.add(domain)\n",
    "        \n",
    "        results.append([domain, ip])"
   ]
  },
  {
   "cell_type": "code",
   "execution_count": 34,
   "metadata": {},
   "outputs": [
    {
     "data": {
      "text/plain": [
       "[['play.google.com', '142.251.36.78'],\n",
       " ['firefox-source-docs.mozilla.org', '65.9.96.13'],\n",
       " ['firefox-source-docs.mozilla.org', '65.9.96.126'],\n",
       " ['firefox-source-docs.mozilla.org', '65.9.96.129'],\n",
       " ['firefox-source-docs.mozilla.org', '65.9.96.31'],\n",
       " ['audio-ak-spotify-com.akamaized.net', '80.239.200.59'],\n",
       " ['audio-ak-spotify-com.akamaized.net', '80.239.148.73'],\n",
       " ['docs.google.com', '142.251.36.110'],\n",
       " ['lh3.googleusercontent.com', '142.251.37.97'],\n",
       " ['fonts.gstatic.com', '172.217.23.195'],\n",
       " ['lh5.googleusercontent.com', '142.251.37.97'],\n",
       " ['lh3.google.com', '142.251.36.142'],\n",
       " ['www.gstatic.com', '172.217.23.195'],\n",
       " ['ssl.gstatic.com', '142.251.36.99'],\n",
       " ['encrypted-tbn0.gstatic.com', '142.251.36.110'],\n",
       " ['www.google.com', '142.251.36.132'],\n",
       " ['d27xxe7juh1us6.cloudfront.net', '65.9.94.147'],\n",
       " ['d27xxe7juh1us6.cloudfront.net', '65.9.94.150'],\n",
       " ['d27xxe7juh1us6.cloudfront.net', '65.9.94.12'],\n",
       " ['d27xxe7juh1us6.cloudfront.net', '65.9.94.129'],\n",
       " ['apis.google.com', '142.251.36.142'],\n",
       " ['aa.google.com', '142.251.36.110'],\n",
       " ['peoplestack-pa.clients6.google.com', '142.251.36.138'],\n",
       " ['safebrowsing.googleapis.com', '216.58.201.74'],\n",
       " ['clients6.google.com', '142.251.36.110'],\n",
       " ['people-pa.clients6.google.com', '142.251.36.74'],\n",
       " ['contacts.google.com', '216.58.201.78'],\n",
       " ['addons-pa.clients6.google.com', '142.251.36.138'],\n",
       " ['firefox.settings.services.mozilla.com', '65.9.96.113'],\n",
       " ['firefox.settings.services.mozilla.com', '65.9.96.48'],\n",
       " ['firefox.settings.services.mozilla.com', '65.9.96.117'],\n",
       " ['firefox.settings.services.mozilla.com', '65.9.96.123'],\n",
       " ['content-signature-2.cdn.mozilla.net', '65.9.96.95'],\n",
       " ['content-signature-2.cdn.mozilla.net', '65.9.96.30'],\n",
       " ['content-signature-2.cdn.mozilla.net', '65.9.96.46'],\n",
       " ['content-signature-2.cdn.mozilla.net', '65.9.96.52']]"
      ]
     },
     "execution_count": 34,
     "metadata": {},
     "output_type": "execute_result"
    }
   ],
   "source": [
    "results"
   ]
  },
  {
   "cell_type": "code",
   "execution_count": null,
   "metadata": {},
   "outputs": [],
   "source": []
  }
 ],
 "metadata": {
  "interpreter": {
   "hash": "916dbcbb3f70747c44a77c7bcd40155683ae19c65e1c03b4aa3499c5328201f1"
  },
  "kernelspec": {
   "display_name": "Python 3.9.7 64-bit",
   "name": "python3"
  },
  "language_info": {
   "codemirror_mode": {
    "name": "ipython",
    "version": 3
   },
   "file_extension": ".py",
   "mimetype": "text/x-python",
   "name": "python",
   "nbconvert_exporter": "python",
   "pygments_lexer": "ipython3",
   "version": "3.9.7"
  },
  "orig_nbformat": 4
 },
 "nbformat": 4,
 "nbformat_minor": 2
}
