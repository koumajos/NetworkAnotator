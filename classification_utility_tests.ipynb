{
 "cells": [
  {
   "cell_type": "code",
   "execution_count": 74,
   "metadata": {},
   "outputs": [],
   "source": [
    "import subprocess\n",
    "import csv"
   ]
  },
  {
   "cell_type": "code",
   "execution_count": 75,
   "metadata": {},
   "outputs": [],
   "source": [
    "def ports_convert_to_int(port):\n",
    "    try:\n",
    "        return int(port)\n",
    "    except:\n",
    "        return port\n",
    "\n",
    "def load_table_ports(filename):\n",
    "    \"\"\"Load ports table, that contain ports registered by IANA and ICANN, from csv and return it as dictionary.\n",
    "\n",
    "    Returns:\n",
    "        dictionary: Loaded ports table as a dictionary (port->service_name).\n",
    "    \"\"\"\n",
    "    if filename.endswith(\".csv\") is False:\n",
    "        print(\"The filename of table contains services haven't suffix or isn't .csv\")\n",
    "        sys.exit(1)\n",
    "    if os.path.isfile(filename) is False:\n",
    "        print(f\"The file with name {filename} doesn't exists.\")\n",
    "        sys.exit(1)\n",
    "    try:\n",
    "        with open(filename, mode=\"r\", encoding=\"utf-8\") as infile:\n",
    "            reader = csv.reader(infile)\n",
    "            reg_ports = dict(\n",
    "                (ports_convert_to_int(rows[1]), rows[0]) for rows in reader\n",
    "            )\n",
    "        return reg_ports\n",
    "    except:\n",
    "        print(f\"Error in loading file {filename}\")\n",
    "        sys.exit(1)\n"
   ]
  },
  {
   "cell_type": "code",
   "execution_count": 76,
   "metadata": {},
   "outputs": [],
   "source": [
    "reg_ports_tb = load_table_ports(\"Ports.csv\")"
   ]
  },
  {
   "cell_type": "code",
   "execution_count": 77,
   "metadata": {},
   "outputs": [],
   "source": [
    "def check_port(port, ports_tb):\n",
    "    \"\"\"Check if port used in dependency is service or registered.\n",
    "\n",
    "    Args:\n",
    "        port (int): Integer of used port by device.\n",
    "        services_tb (dictionary): Dictionary contains list of services.\n",
    "        ports_tb (dictionary): Dictionary contains registered port defined by IANA and ICAN.\n",
    "\n",
    "    Returns:\n",
    "        bool: True if port is service or registered.\n",
    "    \"\"\"\n",
    "    if ports_tb.get(port) is not None:\n",
    "        if ports_tb.get(port) == \"\":\n",
    "            return False\n",
    "        return True\n",
    "    return False"
   ]
  },
  {
   "cell_type": "code",
   "execution_count": 78,
   "metadata": {},
   "outputs": [],
   "source": [
    "returned_text = subprocess.check_output(\"lsof -i -n -P\", shell=True, universal_newlines=True)"
   ]
  },
  {
   "cell_type": "code",
   "execution_count": 79,
   "metadata": {},
   "outputs": [],
   "source": [
    "tmp = returned_text.split(\"\\n\")\n",
    "header = tmp[0]\n",
    "connections = tmp[1:]"
   ]
  },
  {
   "cell_type": "code",
   "execution_count": 80,
   "metadata": {},
   "outputs": [
    {
     "data": {
      "text/plain": [
       "'COMMAND     PID   USER   FD   TYPE DEVICE SIZE/OFF NODE NAME'"
      ]
     },
     "execution_count": 80,
     "metadata": {},
     "output_type": "execute_result"
    }
   ],
   "source": [
    "header"
   ]
  },
  {
   "cell_type": "code",
   "execution_count": 86,
   "metadata": {},
   "outputs": [],
   "source": [
    "for conn in connections:\n",
    "    items = conn.split()\n",
    "    if len(items) == 0 or \"*\" in items[-1]:\n",
    "        continue\n",
    "    status = items[-1]\n",
    "    if status == \"(LISTEN)\":\n",
    "        continue\n",
    "    application = items[0]\n",
    "    dependency = items[-2]\n",
    "\n",
    "    direction = None\n",
    "    if '->' in dependency:\n",
    "        direction = False\n",
    "        sides = dependency.split('->')\n",
    "    elif '<-' in dependency:\n",
    "        direction = True\n",
    "        sides = dependency.split('<-')\n",
    "    else:\n",
    "        continue    \n",
    "    if len(sides) != 2:\n",
    "        continue\n",
    "    # source side\n",
    "    if '[' in sides[0]:\n",
    "        # IPv6\n",
    "        tmp = sides[0].split(\"[\")[-1].split(\"]\")\n",
    "        ip_s = tmp[0]\n",
    "        port_s = int(tmp[1].split(\":\")[-1])\n",
    "    else:\n",
    "        #IPv4\n",
    "        tmp = sides[0].split(\":\")\n",
    "        ip_s = tmp[0]\n",
    "        port_s = int(tmp[1])\n",
    "    # destination side\n",
    "    if '[' in sides[1]:\n",
    "        # IPv6\n",
    "        tmp = sides[1].split(\"[\")[-1].split(\"]\")\n",
    "        ip_d = tmp[0]\n",
    "        port_d = int(tmp[1].split(\":\")[-1])\n",
    "    else:\n",
    "        #IPv4\n",
    "        tmp = sides[1].split(\":\")\n",
    "        ip_d = tmp[0]\n",
    "        port_d = int(tmp[1])\n",
    "    if ip_d == \"127.0.0.1\" and ip_s == \"127.0.0.1\":\n",
    "        continue\n",
    "\n",
    "    tmp_port_s = check_port(port_s, reg_ports_tb)\n",
    "    tmp_port_d = check_port(port_d, reg_ports_tb)\n",
    "    if tmp_port_s is True and tmp_port_d is True:\n",
    "        if direction is False:\n",
    "            id_dependency = f\"{ip_d}({port_d})-{ip_s}\"\n",
    "        else:\n",
    "            id_dependency = f\"{ip_s}({port_s})-{ip_s}\"\n",
    "    elif tmp_port_s is True:\n",
    "        id_dependency = f\"{ip_s}({port_s})-{ip_d}\"\n",
    "    elif tmp_port_d is True:\n",
    "        id_dependency = f\"{ip_d}({port_d})-{ip_s}\"\n",
    "    else:\n",
    "        id_dependency = f\"{ip_s}({port_s}-{port_d})-{ip_d}\"\n",
    "    new_row = [application, id_dependency]\n",
    "    with open('output.csv','r') as f:\n",
    "        existingLines = [line for line in csv.reader(f, delimiter=',')]\n",
    "        if new_row in existingLines:\n",
    "            continue\n",
    "    with open('output.csv','a') as f:\n",
    "        writer = csv.writer(f)\n",
    "        writer.writerow(new_row)"
   ]
  },
  {
   "cell_type": "code",
   "execution_count": null,
   "metadata": {},
   "outputs": [],
   "source": []
  },
  {
   "cell_type": "code",
   "execution_count": 1,
   "metadata": {},
   "outputs": [],
   "source": [
    "s = \"09:37:48.817004 IP 147.32.76.118.42758 > 3.68.124.168.443: Flags [P.], seq 3734151325:3734151815, ack 1248824436, win 3631, options [nop,nop,TS val 2609698556 ecr 2924979190], length 490\"\n"
   ]
  },
  {
   "cell_type": "code",
   "execution_count": 2,
   "metadata": {},
   "outputs": [
    {
     "name": "stdout",
     "output_type": "stream",
     "text": [
      "147.32.76.118.42758\n",
      "3.68.124.168.443\n"
     ]
    }
   ],
   "source": [
    "tmp = s.split()\n",
    "ip_s_port_s = tmp[2]\n",
    "ip_d_port_d = tmp[4].split(\":\")[0]\n",
    "print(ip_s_port_s)\n",
    "print(ip_d_port_d)"
   ]
  },
  {
   "cell_type": "code",
   "execution_count": 5,
   "metadata": {},
   "outputs": [
    {
     "data": {
      "text/plain": [
       "'147.32.76.118'"
      ]
     },
     "execution_count": 5,
     "metadata": {},
     "output_type": "execute_result"
    }
   ],
   "source": [
    "tmp = ip_s_port_s.split(\".\")\n",
    "port_s = tmp[-1]\n",
    "ip_s = \"\"\n",
    "for i in range(len(tmp) - 1):\n",
    "    if i != len(tmp)-2:\n",
    "        ip_s += f\"{tmp[i]}.\"\n",
    "    else:\n",
    "        ip_s += tmp[i]\n",
    "ip_s"
   ]
  },
  {
   "cell_type": "code",
   "execution_count": null,
   "metadata": {},
   "outputs": [],
   "source": []
  }
 ],
 "metadata": {
  "interpreter": {
   "hash": "916dbcbb3f70747c44a77c7bcd40155683ae19c65e1c03b4aa3499c5328201f1"
  },
  "kernelspec": {
   "display_name": "Python 3.9.7 64-bit",
   "name": "python3"
  },
  "language_info": {
   "codemirror_mode": {
    "name": "ipython",
    "version": 3
   },
   "file_extension": ".py",
   "mimetype": "text/x-python",
   "name": "python",
   "nbconvert_exporter": "python",
   "pygments_lexer": "ipython3",
   "version": "3.9.7"
  },
  "orig_nbformat": 4
 },
 "nbformat": 4,
 "nbformat_minor": 2
}
